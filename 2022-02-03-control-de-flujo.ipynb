{
 "cells": [
  {
   "cell_type": "markdown",
   "metadata": {},
   "source": [
    "Control de flujo\n",
    "================\n",
    "\n",
    "**Date:** 2022-02-03\n",
    "\n"
   ]
  },
  {
   "cell_type": "markdown",
   "metadata": {},
   "source": [
    "## Control de flujo\n",
    "\n"
   ]
  },
  {
   "cell_type": "markdown",
   "metadata": {},
   "source": [
    "### `if`\n",
    "\n"
   ]
  },
  {
   "cell_type": "code",
   "execution_count": null,
   "metadata": {},
   "outputs": [],
   "source": [
    "inscritos = [\"Juan Diego\", \"Verania\", \"Rosa\", \"Yessica\", \"Karen\"]\n",
    "oyentes = [\"Uriel\", \"Ruth\"]\n",
    "estudiantes = inscritos + oyentes\n",
    "estudiantes"
   ]
  },
  {
   "cell_type": "code",
   "execution_count": null,
   "metadata": {},
   "outputs": [],
   "source": [
    "if len(estudiantes) > 5:\n",
    "    print(\"Son muchos estudiantes\")"
   ]
  },
  {
   "cell_type": "code",
   "execution_count": null,
   "metadata": {},
   "outputs": [],
   "source": [
    "if len(estudiantes) > 10:\n",
    "    print(\"Son muchos estudiantes\")\n",
    "else:\n",
    "    print(\"Son pocos estudiantes\", end=\". \")\n",
    "    print(\"Ojalá entren oyentes\")"
   ]
  },
  {
   "cell_type": "code",
   "execution_count": null,
   "metadata": {},
   "outputs": [],
   "source": [
    "if len(inscritos) <= 5:\n",
    "    print(\"Son cuando mucho cinco estudiantes\")\n",
    "elif len(inscritos) == 6:\n",
    "    print(\"Son seis estudiantes\")\n",
    "else:\n",
    "    print(\"Son muchos estudiantes\", end=\". \")\n",
    "    print(\"Ojalá no entren oyentes\")"
   ]
  },
  {
   "cell_type": "markdown",
   "metadata": {},
   "source": [
    "### `for`\n",
    "\n"
   ]
  },
  {
   "cell_type": "code",
   "execution_count": null,
   "metadata": {},
   "outputs": [],
   "source": [
    "for estudiante in estudiantes:\n",
    "    print(\"Hola\", estudiante, \"¿Cómo estás?\")"
   ]
  },
  {
   "cell_type": "code",
   "execution_count": null,
   "metadata": {},
   "outputs": [],
   "source": [
    "for i in range(len(estudiantes)):\n",
    "    print(\"Hola\", estudiantes[i])"
   ]
  },
  {
   "cell_type": "code",
   "execution_count": null,
   "metadata": {},
   "outputs": [],
   "source": [
    "for j in range(3, -1, -1):\n",
    "    print(j)\n",
    "    if j == 0:\n",
    "        print(\"Booom\")"
   ]
  },
  {
   "cell_type": "code",
   "execution_count": null,
   "metadata": {},
   "outputs": [],
   "source": [
    "range(7897987978979779878979797987987979779797979)"
   ]
  },
  {
   "cell_type": "markdown",
   "metadata": {},
   "source": [
    "La suma de todos los números del 1 al 100.\n",
    "\n"
   ]
  },
  {
   "cell_type": "code",
   "execution_count": null,
   "metadata": {},
   "outputs": [],
   "source": [
    "sum(range(101))"
   ]
  },
  {
   "cell_type": "markdown",
   "metadata": {},
   "source": [
    "### break, continue y else en ciclos for\n",
    "\n"
   ]
  },
  {
   "cell_type": "markdown",
   "metadata": {},
   "source": [
    "#### break\n",
    "\n"
   ]
  },
  {
   "cell_type": "markdown",
   "metadata": {},
   "source": [
    "`break` sirve para interrumpir un ciclo for.\n",
    "\n"
   ]
  },
  {
   "cell_type": "code",
   "execution_count": null,
   "metadata": {},
   "outputs": [],
   "source": [
    "for estudiante in estudiantes:\n",
    "    print(\"Hola\", estudiante, \"¿Cómo estás?\")\n",
    "    if estudiante == \"Karen\":\n",
    "        break\n",
    "\n",
    "print(\"Ya saludé a los inscritos\")"
   ]
  },
  {
   "cell_type": "markdown",
   "metadata": {},
   "source": [
    "#### else en un ciclo for\n",
    "\n"
   ]
  },
  {
   "cell_type": "markdown",
   "metadata": {},
   "source": [
    "La cláusula `else` en un ciclo `for` se ejecuta cuando el ciclo `for` termina de manera \"natural\", sin haber pasado por una cláusula `break`.\n",
    "\n"
   ]
  },
  {
   "cell_type": "code",
   "execution_count": null,
   "metadata": {},
   "outputs": [],
   "source": [
    "for n in range(2, 10):\n",
    "    for x in range(2, n):\n",
    "        if n % x == 0:\n",
    "            print(n, 'es igual a', x, '*', n//x)\n",
    "            break\n",
    "    else:\n",
    "        # se terminó de checar posibles divisores sin encontrar uno\n",
    "        print(n, 'es un número primo')"
   ]
  },
  {
   "cell_type": "markdown",
   "metadata": {},
   "source": [
    "#### continue\n",
    "\n"
   ]
  },
  {
   "cell_type": "code",
   "execution_count": null,
   "metadata": {},
   "outputs": [],
   "source": [
    "for estudiante in estudiantes:\n",
    "    print(\"Hola\", estudiante, \"¿Cómo estás?\")\n",
    "    if estudiante in [\"Uriel\", \"Ruth\"]:\n",
    "        break\n",
    "    print(\"¿Qué materias estás llevando,\", estudiante,\"?\")"
   ]
  },
  {
   "cell_type": "markdown",
   "metadata": {},
   "source": [
    "#### pass\n",
    "\n"
   ]
  },
  {
   "cell_type": "markdown",
   "metadata": {},
   "source": [
    "La claúsula `pass` no hace nada, pero puede servir para que un programa incompleto sea sintácticamente correcto.\n",
    "\n"
   ]
  },
  {
   "cell_type": "code",
   "execution_count": null,
   "metadata": {},
   "outputs": [],
   "source": [
    "for estudiante in estudiantes:\n",
    "    print(\"Hola\", estudiante, \"¿Cómo estás?\")\n",
    "    if estudiante in [\"Uriel\", \"Ruth\"]:\n",
    "        pass"
   ]
  },
  {
   "cell_type": "code",
   "execution_count": null,
   "metadata": {},
   "outputs": [],
   "source": [
    "for estudiante in estudiantes:\n",
    "    print(\"Hola\", estudiante, \"¿Cómo estás?\")\n",
    "    if estudiante in [\"Uriel\", \"Ruth\"]:\n",
    "        print(\"Hola\", estudiante, \"¿Eres oyente?\")"
   ]
  }
 ],
 "metadata": {
  "kernelspec": {
   "display_name": "Python 3",
   "language": "python",
   "name": "python3"
  },
  "language_info": {
   "codemirror_mode": {
    "name": "ipython",
    "version": 3
   },
   "file_extension": ".py",
   "mimetype": "text/x-python",
   "name": "python",
   "nbconvert_exporter": "python",
   "pygments_lexer": "ipython3",
   "version": "3.9.2"
  },
  "org": null
 },
 "nbformat": 4,
 "nbformat_minor": 1
}
