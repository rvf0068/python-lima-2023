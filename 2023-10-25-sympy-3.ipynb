{
  "cells": [
    {
      "cell_type": "markdown",
      "metadata": {
        "id": "iq0DkLmrsGd1"
      },
      "source": [
        "La biblioteca sympy 3\n",
        "=====================\n",
        "\n",
        "**Date:** 2023-10-25\n",
        "\n"
      ]
    },
    {
      "cell_type": "markdown",
      "metadata": {
        "id": "iJmX_yEisGd3"
      },
      "source": [
        "## Gráficas en 3D\n",
        "\n"
      ]
    },
    {
      "cell_type": "code",
      "execution_count": null,
      "metadata": {
        "id": "7nOvs2ursGd4"
      },
      "outputs": [],
      "source": [
        "from sympy import symbols\n",
        "from sympy.plotting import plot3d\n",
        "x, y = symbols('x y')\n",
        "\n",
        "plot3d(4*x**2+y**2, (x, -5, 5), (y, -5, 5))"
      ]
    },
    {
      "cell_type": "code",
      "execution_count": null,
      "metadata": {
        "id": "acyxbPuYsGd5"
      },
      "outputs": [],
      "source": [
        "from sympy import sin\n",
        "\n",
        "plot3d(sin(x)+sin(y))"
      ]
    },
    {
      "cell_type": "markdown",
      "metadata": {
        "id": "7yFYUfvxsGd5"
      },
      "source": [
        "### Curvas paramétricas en 3D\n",
        "\n"
      ]
    },
    {
      "cell_type": "code",
      "execution_count": null,
      "metadata": {
        "id": "rWubF7wPsGd5"
      },
      "outputs": [],
      "source": [
        "from sympy import cos\n",
        "from sympy.plotting import plot3d_parametric_line\n",
        "\n",
        "plot3d_parametric_line(cos(t), sin(t), t, (t, 0, 20))"
      ]
    },
    {
      "cell_type": "markdown",
      "metadata": {
        "id": "6bblbTCtsGd6"
      },
      "source": [
        "### Superficies paramétricas en 3D\n",
        "\n"
      ]
    },
    {
      "cell_type": "code",
      "execution_count": null,
      "metadata": {
        "id": "1BlhIa_4sGd6"
      },
      "outputs": [],
      "source": [
        "from sympy import pi\n",
        "from sympy.plotting import plot3d_parametric_surface\n",
        "u, v = symbols('u v')\n",
        "\n",
        "plot3d_parametric_surface((2+sin(v))*cos(u), (2+sin(v))*sin(u), u+cos(v), (u, 0, 4*pi), (v, 0, 2*pi))"
      ]
    },
    {
      "cell_type": "code",
      "execution_count": null,
      "metadata": {
        "id": "vre4fkrXsGd7"
      },
      "outputs": [],
      "source": [
        "plot3d_parametric_surface(u**2, v**2, u+v, (u, -1, 1), (v, -1, 1))"
      ]
    },
    {
      "cell_type": "markdown",
      "metadata": {
        "id": "n6g8wktRsGd8"
      },
      "source": [
        "## Varios gráficas juntas\n",
        "\n"
      ]
    },
    {
      "cell_type": "code",
      "execution_count": null,
      "metadata": {
        "id": "C7_vgpx1sGd8"
      },
      "outputs": [],
      "source": [
        "from sympy.plotting import PlotGrid\n",
        "\n",
        "p1 = plot3d(sin(x)+sin(y), title = \"3D\", show=False)\n",
        "p2 = plot3d_parametric_line(cos(t), sin(t), t, (t, 0, 20), title=\"Paramétrica\", show=False)\n",
        "p3 = plot3d_parametric_surface((2+sin(v))*cos(u), (2+sin(v))*sin(u), u+cos(v), (u, 0, 4*pi), (v, 0, 2*pi), show=False)\n",
        "p4 = plot3d_parametric_surface(u**2, v**2, u+v, (u, -1, 1), (v, -1, 1), show=False)\n",
        "\n",
        "PlotGrid(2, 2, p1, p2 ,p3, p4)"
      ]
    },
    {
      "cell_type": "markdown",
      "metadata": {
        "id": "PYm3WmfnsGd-"
      },
      "source": [
        "## Permutaciones\n",
        "\n"
      ]
    },
    {
      "cell_type": "markdown",
      "metadata": {
        "id": "TrLtL0HFsGd-"
      },
      "source": [
        "Una permutación de $X_{n}=\\{0,1,2,\\ldots, n-1\\}$ se puede ver como una función biyectiva $X\\to X$. La regla de correspondencia de una tal función $f$ se puede dar como una lista con $[f(0), f(1),\\ldots, f(n-1)]$, usando el comando `Permutation`.\n",
        "\n"
      ]
    },
    {
      "cell_type": "code",
      "execution_count": null,
      "metadata": {
        "id": "p84tOEoKsGd-"
      },
      "outputs": [],
      "source": [
        "from sympy import init_printing\n",
        "init_printing(use_latex=False)"
      ]
    },
    {
      "cell_type": "markdown",
      "metadata": {
        "id": "7OWpjG-xsGd-"
      },
      "source": [
        "Por ejemplo, sea $f$ la permutación de $X_{3}$ tal que $f(0)=0$, $f(1)=2$ y $f(2)=1$. Tenemos que `sympy` la escribe en *notación cíclica*.\n",
        "\n"
      ]
    },
    {
      "cell_type": "code",
      "execution_count": null,
      "metadata": {
        "id": "DGAmWm-nsGd_"
      },
      "outputs": [],
      "source": [
        "from sympy.combinatorics import Permutation\n",
        "\n",
        "p = Permutation([0, 2, 1])\n",
        "p"
      ]
    },
    {
      "cell_type": "markdown",
      "metadata": {
        "id": "s85mQKFjsGd_"
      },
      "source": [
        "Otro ejemplo\n",
        "\n"
      ]
    },
    {
      "cell_type": "code",
      "execution_count": null,
      "metadata": {
        "id": "tk_xyFWisGd_"
      },
      "outputs": [],
      "source": [
        "q = Permutation([1,0,3,2])\n",
        "q"
      ]
    },
    {
      "cell_type": "code",
      "execution_count": null,
      "metadata": {
        "id": "hcETZouosGd_"
      },
      "outputs": [],
      "source": [
        "from sympy import init_printing\n",
        "init_printing(use_latex=True)"
      ]
    },
    {
      "cell_type": "code",
      "execution_count": null,
      "metadata": {
        "id": "MXA93fg9sGd_"
      },
      "outputs": [],
      "source": [
        "from sympy.combinatorics import Permutation\n",
        "\n",
        "p = Permutation([0, 2, 1])\n",
        "q = Permutation([1,0,3,2])\n",
        "p, q"
      ]
    },
    {
      "cell_type": "markdown",
      "metadata": {
        "id": "Xgf1l0a6sGeA"
      },
      "source": [
        "Las permutaciones se pueden evaluar como si fueran funciones, pero también usando `^`:\n",
        "\n"
      ]
    },
    {
      "cell_type": "code",
      "execution_count": null,
      "metadata": {
        "id": "strD8Yp6sGeA"
      },
      "outputs": [],
      "source": [
        "q(0), q(1), 2^q"
      ]
    },
    {
      "cell_type": "markdown",
      "metadata": {
        "id": "hXO4z1iPsGeA"
      },
      "source": [
        "Las permutaciones se pueden multiplicar, lo cual corresponde a la composición de funciones. Sin embargo, el orden de composición es diferente al que usamos en matemáticas. Es decir, `p*q` significa primero aplicar `p` y luego `q`.\n",
        "\n"
      ]
    },
    {
      "cell_type": "code",
      "execution_count": null,
      "metadata": {
        "id": "lC-_FpzosGeA"
      },
      "outputs": [],
      "source": [
        "p, q, p*q"
      ]
    },
    {
      "cell_type": "markdown",
      "metadata": {
        "id": "It85NT-UsGeA"
      },
      "source": [
        "Usando la notación cíclica, no es necesario escribir los puntos fijos de una permutación de $X_{n}$. Por ejemplo:\n",
        "\n"
      ]
    },
    {
      "cell_type": "code",
      "execution_count": null,
      "metadata": {
        "id": "x2MjXTH9sGeB"
      },
      "outputs": [],
      "source": [
        "s = Permutation(3, 5)\n",
        "s(0), s(1), s(3)"
      ]
    },
    {
      "cell_type": "markdown",
      "metadata": {
        "id": "2P3NNpptsGeB"
      },
      "source": [
        "## Grupo de permutaciones\n",
        "\n"
      ]
    },
    {
      "cell_type": "markdown",
      "metadata": {
        "id": "J8g5b2TWsGeB"
      },
      "source": [
        "Se usa el comando `PermutationGroup` para obtener el grupo generado por un conjunto de transposiciones.\n",
        "\n"
      ]
    },
    {
      "cell_type": "code",
      "execution_count": null,
      "metadata": {
        "id": "uaW1SRt7sGeB"
      },
      "outputs": [],
      "source": [
        "from sympy.combinatorics import PermutationGroup\n",
        "\n",
        "g = PermutationGroup(p, q)\n",
        "g"
      ]
    },
    {
      "cell_type": "code",
      "execution_count": null,
      "metadata": {
        "id": "QHanjRKtsGeB"
      },
      "outputs": [],
      "source": [
        "g.order(), g.elements"
      ]
    },
    {
      "cell_type": "markdown",
      "metadata": {
        "id": "WIBneTgWsGeB"
      },
      "source": [
        "Por ejemplo, el grupo de permutaciones rígidas de un polígono regular de $n$ lados está generado por una rotación y una reflexión.\n",
        "\n"
      ]
    },
    {
      "cell_type": "code",
      "execution_count": null,
      "metadata": {
        "id": "4gDLL9xCsGeB"
      },
      "outputs": [],
      "source": [
        "rot = Permutation(1, 2, 3, 4, 5)\n",
        "ref = Permutation(2, 5)(3, 4)\n",
        "d5 = PermutationGroup(rot, ref)\n",
        "d5.order(), d5.elements"
      ]
    },
    {
      "cell_type": "code",
      "execution_count": null,
      "metadata": {
        "id": "69m0ESAfsGeB"
      },
      "outputs": [],
      "source": []
    }
  ],
  "metadata": {
    "kernelspec": {
      "display_name": "Python 3",
      "language": "python",
      "name": "python3"
    },
    "language_info": {
      "codemirror_mode": {
        "name": "ipython",
        "version": 3
      },
      "file_extension": ".py",
      "mimetype": "text/x-python",
      "name": "python",
      "nbconvert_exporter": "python",
      "pygments_lexer": "ipython3",
      "version": "3.9.2"
    },
    "org": null,
    "colab": {
      "provenance": []
    }
  },
  "nbformat": 4,
  "nbformat_minor": 0
}
