{
 "cells": [
  {
   "cell_type": "markdown",
   "metadata": {},
   "source": [
    "Funciones\n",
    "=========\n",
    "\n",
    "**Date:** 2022-02-09\n",
    "\n"
   ]
  },
  {
   "cell_type": "markdown",
   "metadata": {},
   "source": [
    "## Funciones\n",
    "\n"
   ]
  },
  {
   "cell_type": "code",
   "execution_count": null,
   "metadata": {},
   "outputs": [],
   "source": [
    "inscritos = [\"Juan Diego\", \"Verania\", \"Rosa\", \"Yessica\", \"Karen\"]\n",
    "oyentes = [\"Uriel\", \"Ruth\"]\n",
    "estudiantes = inscritos + oyentes\n",
    "estudiantes"
   ]
  },
  {
   "cell_type": "code",
   "execution_count": null,
   "metadata": {},
   "outputs": [],
   "source": [
    "cuadrado = 25\n",
    "\n",
    "def cuadrado(n):\n",
    "    return n**2\n",
    "\n",
    "cuadrado(7)"
   ]
  },
  {
   "cell_type": "code",
   "execution_count": null,
   "metadata": {},
   "outputs": [],
   "source": [
    "def saludo(persona):\n",
    "    return \"¡Hola, \" + persona + \"! ¿Cómo estás?\"\n",
    "\n",
    "def materias(persona):\n",
    "    return \"¿Qué materias llevas, \" + persona + \"?\"\n",
    "\n",
    "saludo(\"Rafael\")"
   ]
  },
  {
   "cell_type": "code",
   "execution_count": null,
   "metadata": {},
   "outputs": [],
   "source": [
    "for estudiante in estudiantes:\n",
    "    print(saludo(estudiante))\n",
    "    print(materias(estudiante))\n",
    "    print()"
   ]
  },
  {
   "cell_type": "code",
   "execution_count": null,
   "metadata": {},
   "outputs": [],
   "source": [
    "def cuadrados_fibonacci(n):\n",
    "    fibs = []\n",
    "    a, b = 0, 1\n",
    "    while a < n:\n",
    "        fibs.append(a)\n",
    "        a, b = b, a+b\n",
    "    return fibs\n",
    "\n",
    "fibonacci(10000)"
   ]
  },
  {
   "cell_type": "code",
   "execution_count": null,
   "metadata": {},
   "outputs": [],
   "source": [
    "def cuadrados(n):\n",
    "    cua = []\n",
    "    for i in range(n):\n",
    "        if i**2 <= n:\n",
    "            cua.append(i**2)\n",
    "        else:\n",
    "            break\n",
    "    return cua    \n",
    "\n",
    "cuadrados(100)"
   ]
  },
  {
   "cell_type": "code",
   "execution_count": null,
   "metadata": {},
   "outputs": [],
   "source": [
    "int(4.999999999)"
   ]
  },
  {
   "cell_type": "code",
   "execution_count": null,
   "metadata": {},
   "outputs": [],
   "source": [
    "from sympy import sqrt\n",
    "\n",
    "def es_cuadrado(n):\n",
    "    if int(sqrt(n)) ** 2 == n:\n",
    "        return True\n",
    "    else:\n",
    "        return False\n",
    "\n",
    "es_cuadrado(25), es_cuadrado(20), es_cuadrado(99999999222222222**2)"
   ]
  },
  {
   "cell_type": "code",
   "execution_count": null,
   "metadata": {},
   "outputs": [],
   "source": [
    "from sympy import sqrt\n",
    "\n",
    "def es_cuadrado(n):\n",
    "    return int(sqrt(n)) ** 2 == n\n",
    "\n",
    "def cuadrados_fibonacci(n):\n",
    "    fibs = []\n",
    "    a, b = 0, 1\n",
    "    while a < n:\n",
    "        if es_cuadrado(a):\n",
    "            fibs.append(a)\n",
    "        a, b = b, a+b\n",
    "    return fibs\n",
    "\n",
    "cuadrados_fibonacci(100000000000000)"
   ]
  },
  {
   "cell_type": "code",
   "execution_count": null,
   "metadata": {},
   "outputs": [],
   "source": [
    "def diálogo(evento, objeto, bebida):\n",
    "    print(f\"-- ¡Qué {evento} que viene por aquí!\")\n",
    "    print(f\"-- Vine a traerle este humilde {objeto}\")\n",
    "    print(f\"-- ¿No quiere pasar a tomar {bebida}?\")\n",
    "\n",
    "diálogo(\"milagro\", \"obsequio\", \"una tacita de café\")"
   ]
  },
  {
   "cell_type": "code",
   "execution_count": null,
   "metadata": {},
   "outputs": [],
   "source": [
    "diálogo(\"casualidad\", \"regalo\", \"un té\")"
   ]
  },
  {
   "cell_type": "code",
   "execution_count": null,
   "metadata": {},
   "outputs": [],
   "source": [
    "def diálogo(evento=\"milagro\", objeto=\"obsequio\", bebida=\"una tacita de café\"):\n",
    "    print(f\"-- ¡Qué {evento} que viene por aquí!\")\n",
    "    print(f\"-- Vine a traerle este humilde {objeto}\")\n",
    "    print(f\"-- ¿No quiere pasar a tomar {bebida}?\")\n",
    "\n",
    "diálogo()"
   ]
  },
  {
   "cell_type": "code",
   "execution_count": null,
   "metadata": {},
   "outputs": [],
   "source": [
    "diálogo(\"casualidad\", \"regalo\", \"un té\")"
   ]
  },
  {
   "cell_type": "code",
   "execution_count": null,
   "metadata": {},
   "outputs": [],
   "source": [
    "diálogo(bebida=\"atole\", evento=\"sorpresa\", objeto=\"presente\")"
   ]
  },
  {
   "cell_type": "code",
   "execution_count": null,
   "metadata": {},
   "outputs": [],
   "source": [
    "diálogo(bebida=\"un refresco\")"
   ]
  },
  {
   "cell_type": "code",
   "execution_count": null,
   "metadata": {},
   "outputs": [],
   "source": [
    "def diálogo(evento, objeto=\"obsequio\", bebida=\"una tacita de café\"):\n",
    "    print(f\"-- ¡Qué {evento} que viene por aquí!\")\n",
    "    print(f\"-- Vine a traerle este humilde {objeto}\")\n",
    "    print(f\"-- ¿No quiere pasar a tomar {bebida}?\")\n",
    "\n",
    "diálogo(\"coincidencia\")"
   ]
  },
  {
   "cell_type": "code",
   "execution_count": null,
   "metadata": {},
   "outputs": [],
   "source": [
    "diálogo(\"coincidencia\", bebida=\"una copita\")"
   ]
  },
  {
   "cell_type": "markdown",
   "metadata": {},
   "source": [
    "## Ejemplo práctico\n",
    "\n"
   ]
  },
  {
   "cell_type": "code",
   "execution_count": null,
   "metadata": {},
   "outputs": [],
   "source": [
    "def cuadrados(n):\n",
    "    cua = []\n",
    "    for i in range(n):\n",
    "        if i**2 <= n:\n",
    "            cua.append(i**2)\n",
    "        else:\n",
    "            break\n",
    "    return cua    \n",
    "\n",
    "cuadrados(100)"
   ]
  },
  {
   "cell_type": "code",
   "execution_count": null,
   "metadata": {},
   "outputs": [],
   "source": [
    "def cuadrados(n, inferior=0):\n",
    "    cua = []\n",
    "    for i in range(n):\n",
    "        if inferior <= i**2 <= n:\n",
    "            cua.append(i**2)\n",
    "        elif i**2 > n:\n",
    "            break\n",
    "    return cua    \n",
    "\n",
    "cuadrados(100, inferior=24)"
   ]
  },
  {
   "cell_type": "code",
   "execution_count": null,
   "metadata": {},
   "outputs": [],
   "source": [
    "def saludador(saludo):\n",
    "    def tttttttttttt(persona):\n",
    "        return saludo + \" \" + persona\n",
    "    return tttttttttttt\n",
    "\n",
    "f = saludador(\"Hola\")\n",
    "f(\"Verania\")"
   ]
  },
  {
   "cell_type": "code",
   "execution_count": null,
   "metadata": {},
   "outputs": [],
   "source": [
    "g = saludador(\"Que tal\")\n",
    "g(\"Yessica\")"
   ]
  },
  {
   "cell_type": "markdown",
   "metadata": {},
   "source": [
    "## Tarea\n",
    "\n"
   ]
  },
  {
   "cell_type": "markdown",
   "metadata": {},
   "source": [
    "Escribir una función que tenga un argumento obligatorio $n$ y un argumento opcional $pot$, y que regrese los números de fibonacci menores que $n$ que sean una potencia $pot$ exacta.\n",
    "\n"
   ]
  },
  {
   "cell_type": "markdown",
   "metadata": {},
   "source": [
    "## Documentación de las funciones y funciones anónimas\n",
    "\n"
   ]
  },
  {
   "cell_type": "code",
   "execution_count": null,
   "metadata": {},
   "outputs": [],
   "source": [
    "def saludador(saludo=\"Hola\"):\n",
    "    \"\"\"Una función que regresa funciones saludadoras.\"\"\"\n",
    "    return lambda persona: saludo + \" \" + persona\n",
    "\n",
    "help(saludador)"
   ]
  },
  {
   "cell_type": "code",
   "execution_count": null,
   "metadata": {},
   "outputs": [],
   "source": [
    "g = saludador(\"Que tal\")\n",
    "g(\"Karen\")"
   ]
  },
  {
   "cell_type": "code",
   "execution_count": null,
   "metadata": {},
   "outputs": [],
   "source": [
    "fun = lambda x: x**2\n",
    "\n",
    "fun(4)"
   ]
  },
  {
   "cell_type": "markdown",
   "metadata": {},
   "source": [
    "## Copia superficial\n",
    "\n"
   ]
  },
  {
   "cell_type": "markdown",
   "metadata": {},
   "source": [
    "En inglés se llama *shallow copy*.\n",
    "\n"
   ]
  },
  {
   "cell_type": "code",
   "execution_count": null,
   "metadata": {},
   "outputs": [],
   "source": [
    "estudiantes"
   ]
  },
  {
   "cell_type": "code",
   "execution_count": null,
   "metadata": {},
   "outputs": [],
   "source": [
    "alumnos = estudiantes\n",
    "alumnos.append(\"Nuevo\")\n",
    "alumnos"
   ]
  },
  {
   "cell_type": "code",
   "execution_count": null,
   "metadata": {},
   "outputs": [],
   "source": [
    "estudiantes"
   ]
  },
  {
   "cell_type": "code",
   "execution_count": null,
   "metadata": {},
   "outputs": [],
   "source": [
    "a = 1\n",
    "b = a\n",
    "b = b+1\n",
    "b"
   ]
  },
  {
   "cell_type": "code",
   "execution_count": null,
   "metadata": {},
   "outputs": [],
   "source": [
    "a"
   ]
  },
  {
   "cell_type": "markdown",
   "metadata": {},
   "source": [
    "### Más métodos del tipo lista\n",
    "\n"
   ]
  },
  {
   "cell_type": "code",
   "execution_count": null,
   "metadata": {},
   "outputs": [],
   "source": [
    "alumnos.pop()"
   ]
  },
  {
   "cell_type": "code",
   "execution_count": null,
   "metadata": {},
   "outputs": [],
   "source": [
    "alumnos"
   ]
  },
  {
   "cell_type": "code",
   "execution_count": null,
   "metadata": {},
   "outputs": [],
   "source": [
    "estudiantes"
   ]
  },
  {
   "cell_type": "code",
   "execution_count": null,
   "metadata": {},
   "outputs": [],
   "source": [
    "alumnos2 = estudiantes.copy()\n",
    "alumnos2"
   ]
  },
  {
   "cell_type": "code",
   "execution_count": null,
   "metadata": {},
   "outputs": [],
   "source": [
    "alumnos2.append(\"Nuevo\")\n",
    "alumnos2"
   ]
  },
  {
   "cell_type": "code",
   "execution_count": null,
   "metadata": {},
   "outputs": [],
   "source": [
    "estudiantes"
   ]
  }
 ],
 "metadata": {
  "kernelspec": {
   "display_name": "Python 3",
   "language": "python",
   "name": "python3"
  },
  "language_info": {
   "codemirror_mode": {
    "name": "ipython",
    "version": 3
   },
   "file_extension": ".py",
   "mimetype": "text/x-python",
   "name": "python",
   "nbconvert_exporter": "python",
   "pygments_lexer": "ipython3",
   "version": "3.9.2"
  },
  "org": null
 },
 "nbformat": 4,
 "nbformat_minor": 1
}
