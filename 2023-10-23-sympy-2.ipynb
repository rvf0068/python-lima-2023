{
 "cells": [
  {
   "cell_type": "markdown",
   "metadata": {},
   "source": [
    "La biblioteca sympy 2\n",
    "=====================\n",
    "\n",
    "**Date:** 2023-10-22\n",
    "\n"
   ]
  },
  {
   "cell_type": "markdown",
   "metadata": {},
   "source": [
    "## Ecuaciones diferenciales\n",
    "\n"
   ]
  },
  {
   "cell_type": "markdown",
   "metadata": {},
   "source": [
    "La función `Derivative` sirve para dejar indicada una derivada. El objeto así creado tiene el método `doit` para, de hecho, calcular la derivada indicada.\n",
    "\n"
   ]
  },
  {
   "cell_type": "code",
   "execution_count": null,
   "metadata": {},
   "outputs": [],
   "source": [
    "from sympy import symbols, Derivative, sin, init_printing\n",
    "init_printing(use_latex=True)\n",
    "\n",
    "x = symbols('x')\n",
    "d = Derivative(sin(x), x)\n",
    "d2 = Derivative(sin(x), x, x)\n",
    "d, d2, d.doit(), d2.doit()"
   ]
  },
  {
   "cell_type": "markdown",
   "metadata": {},
   "source": [
    "Para definir una ecuación diferencial se puede usar `Function` para definir la función a encontrar en una ecuación diferencial. El comando para definir y resolver una ecuación diferencial es `dsolve`. Nótese que la función a resolver es el segundo argumento de la función `dsolve`. El primer argumento se supone igual a cero\n",
    "\n"
   ]
  },
  {
   "cell_type": "code",
   "execution_count": null,
   "metadata": {},
   "outputs": [],
   "source": [
    "from sympy import Function, Eq, exp, dsolve\n",
    "\n",
    "y = Function('y')\n",
    "dsolve(Derivative(y(x), x)+2*exp(x), y(x))"
   ]
  },
  {
   "cell_type": "markdown",
   "metadata": {},
   "source": [
    "También se puede definir previamente la función con `Eq`, asociándole una variable que luego se da a `dsolve`.\n",
    "\n"
   ]
  },
  {
   "cell_type": "code",
   "execution_count": null,
   "metadata": {},
   "outputs": [],
   "source": [
    "eq = Eq(Derivative(y(x), x)+2*y(x), exp(x))\n",
    "eq"
   ]
  },
  {
   "cell_type": "code",
   "execution_count": null,
   "metadata": {},
   "outputs": [],
   "source": [
    "dsolve(eq, y(x))"
   ]
  },
  {
   "cell_type": "markdown",
   "metadata": {},
   "source": [
    "A su vez, `dsolve` regresa una igualdad, no directamente la función solución de la ecuación diferencial.\n",
    "\n"
   ]
  },
  {
   "cell_type": "code",
   "execution_count": null,
   "metadata": {},
   "outputs": [],
   "source": [
    "equ = dsolve(eq, y(x))\n",
    "type(equ)"
   ]
  },
  {
   "cell_type": "markdown",
   "metadata": {},
   "source": [
    "Sin embargo, la solución a la ecuación diferencial (y en general, la expresión que está al lado derecho de una ecuación) puede obtenerse con el atributo `rhs`.\n",
    "\n"
   ]
  },
  {
   "cell_type": "code",
   "execution_count": null,
   "metadata": {},
   "outputs": [],
   "source": [
    "equ.rhs"
   ]
  },
  {
   "cell_type": "markdown",
   "metadata": {},
   "source": [
    "A pesar de que `C1` aparece en la expresión, no podemos sustituirla sin definirla primero\n",
    "\n"
   ]
  },
  {
   "cell_type": "code",
   "execution_count": null,
   "metadata": {},
   "outputs": [],
   "source": [
    "equ.rhs.subs({C1: 1})"
   ]
  },
  {
   "cell_type": "code",
   "execution_count": null,
   "metadata": {},
   "outputs": [],
   "source": [
    "C1 = symbols('C1')\n",
    "equ.rhs.subs({C1: 1})"
   ]
  },
  {
   "cell_type": "markdown",
   "metadata": {},
   "source": [
    "También se pueden definir y resolver sistemas de ecuaciones diferenciales. Nótese otra manera de definir funciones.\n",
    "\n"
   ]
  },
  {
   "cell_type": "code",
   "execution_count": null,
   "metadata": {},
   "outputs": [],
   "source": [
    "t = symbols('t')\n",
    "x, y = symbols('x y', cls=Function)\n",
    "eq1 = Eq(Derivative(x(t), t), -3*x(t) + 4*y(t))\n",
    "eq2 = Eq(Derivative(y(t), t), -2*x(t) + 3*y(t))\n",
    "\n",
    "dsolve((eq1, eq2))"
   ]
  },
  {
   "cell_type": "markdown",
   "metadata": {},
   "source": [
    "## Graficación\n",
    "\n"
   ]
  },
  {
   "cell_type": "markdown",
   "metadata": {},
   "source": [
    "Se obtienen gráficas sencillas con `plot`.\n",
    "\n"
   ]
  },
  {
   "cell_type": "code",
   "execution_count": null,
   "metadata": {},
   "outputs": [],
   "source": [
    "from sympy import plot\n",
    "\n",
    "x = symbols('x')\n",
    "\n",
    "p1 = plot(x*x)"
   ]
  },
  {
   "cell_type": "markdown",
   "metadata": {},
   "source": [
    "Se le pueden dar múltiples funciones a `plot`.\n",
    "\n"
   ]
  },
  {
   "cell_type": "code",
   "execution_count": null,
   "metadata": {},
   "outputs": [],
   "source": [
    "from sympy import plot\n",
    "\n",
    "x = symbols('x')\n",
    "\n",
    "p1 = plot(x**2, x**3/20)"
   ]
  },
  {
   "cell_type": "markdown",
   "metadata": {},
   "source": [
    "El intervalo de variación de la variable se puede especificar con una tupla.\n",
    "\n"
   ]
  },
  {
   "cell_type": "code",
   "execution_count": null,
   "metadata": {},
   "outputs": [],
   "source": [
    "from sympy import sin, symbols\n",
    "\n",
    "x = symbols('x')\n",
    "\n",
    "expr = sin(x)/x\n",
    "\n",
    "p1 = plot(expr, (x, -4 ,4), legend=True, label=repr(expr))"
   ]
  },
  {
   "cell_type": "markdown",
   "metadata": {},
   "source": [
    "Para graficar dos funciones en un mismo plano, también se pueden dejar indicados los comandos `plot`, y después juntarlos. Para mostrar el dibujo se usa el método `show`.\n",
    "\n"
   ]
  },
  {
   "cell_type": "code",
   "execution_count": null,
   "metadata": {},
   "outputs": [],
   "source": [
    "from sympy import cos\n",
    "\n",
    "p1 = plot(expr, (x, -4 ,4), show=False, legend=True, label=repr(expr), line_color='magenta', title=\"Gráfica\", size=(10, 10))\n",
    "p2 = plot(x*cos(x), (x, -4 ,4), show=False, legend=True, label=repr(x*cos(x)))\n",
    "p1.append(p2[0])\n",
    "p1.show()"
   ]
  },
  {
   "cell_type": "code",
   "execution_count": null,
   "metadata": {},
   "outputs": [],
   "source": [
    "from sympy import plot\n",
    "\n",
    "plot?"
   ]
  },
  {
   "cell_type": "markdown",
   "metadata": {},
   "source": [
    "Vamos a graficar soluciones de sistemas de ecuaciones diferenciales.\n",
    "\n"
   ]
  },
  {
   "cell_type": "code",
   "execution_count": null,
   "metadata": {},
   "outputs": [],
   "source": [
    "t = symbols('t')\n",
    "x, y = symbols('x y', cls=Function)\n",
    "eq1 = Eq(Derivative(x(t), t), 2*x(t) + y(t))\n",
    "eq2 = Eq(Derivative(y(t), t), x(t) + 2*y(t))\n",
    "\n",
    "sols = dsolve((eq1, eq2))\n",
    "sols, sols[0], sols[0].rhs, sols[0].rhs, type(sols[0].rhs)"
   ]
  },
  {
   "cell_type": "markdown",
   "metadata": {},
   "source": [
    "Daremos valores a las constantes `C1`, `C2` para poder graficar las dos funciones que componen la solución del sistema.\n",
    "\n"
   ]
  },
  {
   "cell_type": "code",
   "execution_count": null,
   "metadata": {},
   "outputs": [],
   "source": [
    "C1, C2 = symbols('C1 C2')\n",
    "dict_subs = {C1:2, C2:-1}\n",
    "expr1 = sols[0].rhs.subs(dict_subs)\n",
    "expr2 = sols[1].rhs.subs(dict_subs)\n",
    "expr1, expr2"
   ]
  },
  {
   "cell_type": "code",
   "execution_count": null,
   "metadata": {},
   "outputs": [],
   "source": [
    "p1 = plot(expr1, (t, -1, 1), show=False)\n",
    "p2 = plot(expr2, (t, -1, 1), show=False)\n",
    "p1.append(p2[0])\n",
    "p1.show()"
   ]
  },
  {
   "cell_type": "code",
   "execution_count": null,
   "metadata": {},
   "outputs": [],
   "source": [
    "from sympy import plot_parametric\n",
    "\n",
    "plot_parametric((expr1, expr2), (t, -1, 1))"
   ]
  },
  {
   "cell_type": "markdown",
   "metadata": {},
   "source": [
    "Aquí vemos otro ejemplo conocido:\n",
    "\n"
   ]
  },
  {
   "cell_type": "code",
   "execution_count": null,
   "metadata": {},
   "outputs": [],
   "source": [
    "eq1 = Eq(Derivative(x(t), t), y(t))\n",
    "eq2 = Eq(Derivative(y(t), t), - x(t))\n",
    "\n",
    "sols = dsolve((eq1, eq2))\n",
    "sols[0], sols[1]"
   ]
  },
  {
   "cell_type": "code",
   "execution_count": null,
   "metadata": {},
   "outputs": [],
   "source": [
    "dict_subs = {C1:1, C2:0}\n",
    "expr1 = sols[0].rhs.subs(dict_subs)\n",
    "expr2 = sols[1].rhs.subs(dict_subs)\n",
    "expr1, expr2"
   ]
  },
  {
   "cell_type": "code",
   "execution_count": null,
   "metadata": {},
   "outputs": [],
   "source": [
    "from sympy import pi\n",
    "\n",
    "p1 = plot(expr1, (t, -3*pi, 3*pi), show=False)\n",
    "p2 = plot(expr2, (t, -3*pi, 3*pi), show=False)\n",
    "p1.append(p2[0])\n",
    "p1.show()"
   ]
  },
  {
   "cell_type": "code",
   "execution_count": null,
   "metadata": {},
   "outputs": [],
   "source": [
    "from sympy import plot_parametric\n",
    "\n",
    "plot_parametric((expr1, expr2), (t, 0, 10))"
   ]
  },
  {
   "cell_type": "markdown",
   "metadata": {},
   "source": [
    "## Tarea\n",
    "\n"
   ]
  },
  {
   "cell_type": "markdown",
   "metadata": {},
   "source": [
    "Nosotros hemos dado valores a las constantes `C1`, `C2` para poder graficar las soluciones. Sin embargo, en la práctica, esas constantes dependen de las condiciones iniciales, y para encontrarlas, debe resolverse un sistema de ecuaciones lineales. Consideremos, por ejemplo, el primer sistema que vimos. De la siguiente manera podemos encontrar el sistema lineal que determina las constantes en términos de las condiciones iniciales, el cual se resuelve usando la función `solve`. Nótese que las condiciones iniciales propuestas son $x(0)=2$, $y(0)=-1$.\n",
    "\n"
   ]
  },
  {
   "cell_type": "code",
   "execution_count": null,
   "metadata": {},
   "outputs": [],
   "source": [
    "eq1 = Eq(Derivative(x(t), t), 2*x(t) + y(t))\n",
    "eq2 = Eq(Derivative(y(t), t), x(t) + 2*y(t))\n",
    "\n",
    "sols = dsolve((eq1, eq2))\n",
    "\n",
    "lineal1 = Eq(sols[0].subs({t:0}).rhs, 2)\n",
    "lineal2 = Eq(sols[1].subs({t:0}).rhs, -1)\n",
    "lineal1, lineal2"
   ]
  },
  {
   "cell_type": "code",
   "execution_count": null,
   "metadata": {},
   "outputs": [],
   "source": [
    "from sympy import solve\n",
    "\n",
    "solve((eq1, eq2), (C1, C2))"
   ]
  },
  {
   "cell_type": "markdown",
   "metadata": {},
   "source": [
    "La **tarea** consiste en definir una función (o una serie de funciones), tal que, dada una lista de dos listas de dos números (que represente una matriz $A$, por ejemplo `A=[[1, 2], [3, 4]]`), y una lista de dos números (que representa las condiciones iniciales $(x_{0},y_{0})$ en $t=0$, por ejemplo, `v=[2,-1]`, regrese la solución del sistema de ecuaciones diferenciales (como una pareja de  funciones de $t$):\n",
    "\n",
    "\\begin{equation}\n",
    "\\label{eq:1}\n",
    "\\begin{pmatrix}\n",
    "x'(t)\\\\\n",
    "y'(t)\n",
    "\\end{pmatrix}=\n",
    "A\\begin{pmatrix}\n",
    "x(t)\\\\\n",
    "y(t)\n",
    "\\end{pmatrix}=\n",
    "\\begin{pmatrix}\n",
    "A_{11}x(t) + A_{12}y(t)\\\\\n",
    "A_{21}x(t) + A_{22}y(t)\n",
    "\\end{pmatrix}\n",
    "\\end{equation}\n",
    "\n",
    "que satisfaga las condiciones iniciales $x(0)=x_{0}$, $y(0)=y_{0}$.\n",
    "\n"
   ]
  }
 ],
 "metadata": {
  "kernelspec": {
   "display_name": "Python 3",
   "language": "python",
   "name": "python3"
  },
  "language_info": {
   "codemirror_mode": {
    "name": "ipython",
    "version": 3
   },
   "file_extension": ".py",
   "mimetype": "text/x-python",
   "name": "python",
   "nbconvert_exporter": "python",
   "pygments_lexer": "ipython3",
   "version": "3.9.2"
  },
  "org": null
 },
 "nbformat": 4,
 "nbformat_minor": 1
}
